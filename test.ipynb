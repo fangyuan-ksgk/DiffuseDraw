{
 "cells": [
  {
   "cell_type": "code",
   "execution_count": 1,
   "metadata": {
    "scrolled": true
   },
   "outputs": [
    {
     "name": "stdout",
     "output_type": "stream",
     "text": [
      "'throw away' -> True\n",
      "'jeter' -> False\n",
      "'mettre au rebut' -> False\n",
      "'discard the old papers' -> True\n",
      "'sólo único gratis' -> False\n",
      "'ordinario común' -> False\n"
     ]
    },
    {
     "name": "stderr",
     "output_type": "stream",
     "text": [
      "Processing Kanji Dataset: 100%|██████████| 3434/3434 [00:10<00:00, 324.75it/s]\n"
     ]
    },
    {
     "ename": "",
     "evalue": "",
     "output_type": "error",
     "traceback": [
      "\u001b[1;31mThe Kernel crashed while executing code in the current cell or a previous cell. \n",
      "\u001b[1;31mPlease review the code in the cell(s) to identify a possible cause of the failure. \n",
      "\u001b[1;31mClick <a href='https://aka.ms/vscodeJupyterKernelCrash'>here</a> for more info. \n",
      "\u001b[1;31mView Jupyter <a href='command:jupyter.viewOutput'>log</a> for further details."
     ]
    }
   ],
   "source": [
    "from src.utils import create_inception_dataset\n",
    "\n",
    "create_inception_dataset(push_to_hub=True, hub_model_id=\"Ksgk-fy/inception-kanji-dataset\")\n"
   ]
  },
  {
   "cell_type": "code",
   "execution_count": 5,
   "metadata": {},
   "outputs": [
    {
     "name": "stdout",
     "output_type": "stream",
     "text": [
      "Requirement already satisfied: cairosvg in /opt/homebrew/lib/python3.11/site-packages (2.7.1)\n",
      "Requirement already satisfied: cairocffi in /opt/homebrew/lib/python3.11/site-packages (from cairosvg) (1.7.1)\n",
      "Requirement already satisfied: cssselect2 in /opt/homebrew/lib/python3.11/site-packages (from cairosvg) (0.7.0)\n",
      "Requirement already satisfied: defusedxml in /opt/homebrew/lib/python3.11/site-packages (from cairosvg) (0.7.1)\n",
      "Requirement already satisfied: pillow in /opt/homebrew/lib/python3.11/site-packages (from cairosvg) (10.1.0)\n",
      "Requirement already satisfied: tinycss2 in /opt/homebrew/lib/python3.11/site-packages (from cairosvg) (1.2.1)\n",
      "Requirement already satisfied: cffi>=1.1.0 in /opt/homebrew/lib/python3.11/site-packages (from cairocffi->cairosvg) (1.16.0)\n",
      "Requirement already satisfied: webencodings in /opt/homebrew/lib/python3.11/site-packages (from cssselect2->cairosvg) (0.5.1)\n",
      "Requirement already satisfied: pycparser in /opt/homebrew/lib/python3.11/site-packages (from cffi>=1.1.0->cairocffi->cairosvg) (2.21)\n",
      "\n",
      "\u001b[1m[\u001b[0m\u001b[34;49mnotice\u001b[0m\u001b[1;39;49m]\u001b[0m\u001b[39;49m A new release of pip is available: \u001b[0m\u001b[31;49m23.3.1\u001b[0m\u001b[39;49m -> \u001b[0m\u001b[32;49m24.3.1\u001b[0m\n",
      "\u001b[1m[\u001b[0m\u001b[34;49mnotice\u001b[0m\u001b[1;39;49m]\u001b[0m\u001b[39;49m To update, run: \u001b[0m\u001b[32;49mpython3.11 -m pip install --upgrade pip\u001b[0m\n",
      "Traceback (most recent call last):\n",
      "  File \"/Users/fangyuanyu/Grow/DiffuseDraw/prepare_data.py\", line 1, in <module>\n",
      "    from src.utils import create_inception_dataset\n",
      "  File \"/Users/fangyuanyu/Grow/DiffuseDraw/src/__init__.py\", line 1, in <module>\n",
      "    from .utils import *\n",
      "  File \"/Users/fangyuanyu/Grow/DiffuseDraw/src/utils.py\", line 4, in <module>\n",
      "    from cairosvg import svg2png\n",
      "ModuleNotFoundError: No module named 'cairosvg'\n"
     ]
    }
   ],
   "source": [
    "!pip install cairosvg\n",
    "!python prepare_data.py"
   ]
  },
  {
   "cell_type": "code",
   "execution_count": 7,
   "metadata": {},
   "outputs": [
    {
     "name": "stdout",
     "output_type": "stream",
     "text": [
      "\u001b[33mWarning:\u001b[0m No available formula with the name \"cairosvg\". Did you mean cairo?\n",
      "\u001b[34m==>\u001b[0m \u001b[1mSearching for similarly named formulae and casks...\u001b[0m\n",
      "\u001b[34m==>\u001b[0m \u001b[1mFormulae\u001b[0m\n",
      "\u001b[1mcairo \u001b[32m✔\u001b[0m\u001b[0m\n",
      "\n",
      "To install \u001b[1mcairo \u001b[32m✔\u001b[0m\u001b[0m, run:\n",
      "  brew install \u001b[1mcairo \u001b[32m✔\u001b[0m\u001b[0m\n",
      "\n",
      "\u001b[34m==>\u001b[0m \u001b[1mCasks\u001b[0m\n",
      "caido\n",
      "\n",
      "To install caido, run:\n",
      "  brew install --cask caido\n"
     ]
    }
   ],
   "source": [
    "# !pip3 install cairosvg\n",
    "!brew install cairosvg"
   ]
  },
  {
   "cell_type": "code",
   "execution_count": null,
   "metadata": {},
   "outputs": [],
   "source": []
  }
 ],
 "metadata": {
  "kernelspec": {
   "display_name": "Python 3 (ipykernel)",
   "language": "python",
   "name": "python3"
  },
  "language_info": {
   "codemirror_mode": {
    "name": "ipython",
    "version": 3
   },
   "file_extension": ".py",
   "mimetype": "text/x-python",
   "name": "python",
   "nbconvert_exporter": "python",
   "pygments_lexer": "ipython3",
   "version": "3.11.6"
  }
 },
 "nbformat": 4,
 "nbformat_minor": 4
}
