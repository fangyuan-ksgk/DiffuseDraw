{
 "cells": [
  {
   "cell_type": "code",
   "execution_count": 12,
   "metadata": {
    "scrolled": true
   },
   "outputs": [],
   "source": [
    "from src.utils import create_kanji_dataset, TrainingConfig\n",
    "# import torch\n",
    "\n",
    "dataset = create_kanji_dataset() # hf dataset"
   ]
  },
  {
   "cell_type": "markdown",
   "metadata": {},
   "source": [
    "#### Model initializing & Upload to HF \n",
    "- To be compatible with training script from HF, we need a 'uploaded SD model' on HF.  "
   ]
  },
  {
   "cell_type": "code",
   "execution_count": 3,
   "metadata": {},
   "outputs": [],
   "source": [
    "from diffusers import UNet2DConditionModel, DDPMScheduler, AutoencoderKL, PNDMScheduler\n",
    "from transformers import CLIPTextModel, CLIPTokenizer, CLIPTokenizer\n",
    "from src.utils import get_transform\n",
    "\n",
    "# Stable Diffusion 3.5-medium \n",
    "# Trying to initialize a randomized-unet + SD3.5 VAE & TextEncoder model and upload to HF, so that training script is directly runnable \n",
    "# - I should also consider uploading dataset to HF \n",
    "\n",
    "# SD 1.5 model loading\n",
    "\n",
    "model_name = \"stable-diffusion-v1-5/stable-diffusion-v1-5\"\n",
    "\n",
    "text_encoder = CLIPTextModel.from_pretrained(\n",
    "    model_name, subfolder=\"text_encoder\"\n",
    ")\n",
    "vae = AutoencoderKL.from_pretrained(\n",
    "    model_name, subfolder=\"vae\"\n",
    ")     \n",
    "\n",
    "noise_scheduler = PNDMScheduler.from_pretrained(\n",
    "    model_name, \n",
    "    subfolder=\"scheduler\"\n",
    ")\n",
    "\n",
    "# Load tokenizer (which was missing before)\n",
    "tokenizer = CLIPTokenizer.from_pretrained(\n",
    "    model_name, \n",
    "    subfolder=\"tokenizer\"\n",
    ")   \n",
    "        \n",
    "# Conditional Denoise Diffusion Model\n",
    "# unet = UNet2DConditionModel.from_pretrained(\n",
    "#     model_name, \n",
    "#     subfolder=\"unet\"\n",
    "# )\n",
    "\n",
    "unet = UNet2DConditionModel(\n",
    "    sample_size=128,  # probably 64x64 or 128x128 is enough for Kanji\n",
    "    in_channels=4,\n",
    "    out_channels=4,\n",
    "    layers_per_block=2,\n",
    "    block_out_channels=(64, 128, 256, 256),  # reduced number of channels\n",
    "    down_block_types=(\n",
    "        \"CrossAttnDownBlock2D\",\n",
    "        \"CrossAttnDownBlock2D\",\n",
    "        \"DownBlock2D\",\n",
    "        \"DownBlock2D\",\n",
    "    ),\n",
    "    up_block_types=(\n",
    "        \"UpBlock2D\",\n",
    "        \"UpBlock2D\",\n",
    "        \"CrossAttnUpBlock2D\",\n",
    "        \"CrossAttnUpBlock2D\",\n",
    "    ),\n",
    "    cross_attention_dim=768,  # Dimension of the text embeddings\n",
    ")"
   ]
  },
  {
   "cell_type": "code",
   "execution_count": null,
   "metadata": {},
   "outputs": [],
   "source": [
    "from src.utils import evaluate_kanji_pipeline\n",
    "evaluate_kanji_pipeline(unet, dataset, n_rows=2, n_cols=4, seed=33, out_dir=\"runs\", out_name=\"kanji_eval.png\")"
   ]
  },
  {
   "cell_type": "code",
   "execution_count": 5,
   "metadata": {},
   "outputs": [
    {
     "name": "stderr",
     "output_type": "stream",
     "text": [
      "Repo card metadata block was not found. Setting CardData to empty.\n"
     ]
    }
   ],
   "source": [
    "# Debug against minimal training pipeline ... \n",
    "from datasets import load_dataset\n",
    "dataset_name = \"lambdalabs/naruto-blip-captions\"\n",
    "dataset = load_dataset(dataset_name)"
   ]
  }
 ],
 "metadata": {
  "kernelspec": {
   "display_name": "Python 3 (ipykernel)",
   "language": "python",
   "name": "python3"
  },
  "language_info": {
   "codemirror_mode": {
    "name": "ipython",
    "version": 3
   },
   "file_extension": ".py",
   "mimetype": "text/x-python",
   "name": "python",
   "nbconvert_exporter": "python",
   "pygments_lexer": "ipython3",
   "version": "3.11.6"
  }
 },
 "nbformat": 4,
 "nbformat_minor": 4
}
